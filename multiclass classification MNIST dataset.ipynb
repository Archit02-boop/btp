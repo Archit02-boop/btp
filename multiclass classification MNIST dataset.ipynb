{
  "cells": [
    {
      "cell_type": "code",
      "execution_count": null,
      "metadata": {
        "colab": {
          "base_uri": "https://localhost:8080/"
        },
        "id": "_8EAzo3kBy2_",
        "outputId": "ef5dea9a-e79f-4d50-83a3-c130fad3c291"
      },
      "outputs": [
        {
          "output_type": "stream",
          "name": "stdout",
          "text": [
            "Using device: cuda\n"
          ]
        }
      ],
      "source": [
        "import torch\n",
        "import torch.nn as nn\n",
        "import torch.optim as optim\n",
        "import torchvision\n",
        "import torchvision.transforms as transforms\n",
        "from torch.utils.data import DataLoader, random_split\n",
        "\n",
        "import numpy as np\n",
        "import matplotlib.pyplot as plt\n",
        "from sklearn.metrics import confusion_matrix, accuracy_score\n",
        "\n",
        "# Device configuration\n",
        "device = torch.device('cuda' if torch.cuda.is_available() else 'cpu')\n",
        "print('Using device:', device)"
      ]
    },
    {
      "cell_type": "code",
      "execution_count": null,
      "metadata": {
        "colab": {
          "base_uri": "https://localhost:8080/"
        },
        "id": "rhAG-PU7B_rN",
        "outputId": "570ea817-6fa8-4e5f-fa34-04f2ada6f115"
      },
      "outputs": [
        {
          "output_type": "stream",
          "name": "stdout",
          "text": [
            "Downloading http://yann.lecun.com/exdb/mnist/train-images-idx3-ubyte.gz\n",
            "Failed to download (trying next):\n",
            "HTTP Error 403: Forbidden\n",
            "\n",
            "Downloading https://ossci-datasets.s3.amazonaws.com/mnist/train-images-idx3-ubyte.gz\n",
            "Downloading https://ossci-datasets.s3.amazonaws.com/mnist/train-images-idx3-ubyte.gz to ./data/MNIST/raw/train-images-idx3-ubyte.gz\n"
          ]
        },
        {
          "output_type": "stream",
          "name": "stderr",
          "text": [
            "100%|██████████| 9912422/9912422 [00:00<00:00, 15527537.42it/s]\n"
          ]
        },
        {
          "output_type": "stream",
          "name": "stdout",
          "text": [
            "Extracting ./data/MNIST/raw/train-images-idx3-ubyte.gz to ./data/MNIST/raw\n",
            "\n",
            "Downloading http://yann.lecun.com/exdb/mnist/train-labels-idx1-ubyte.gz\n",
            "Failed to download (trying next):\n",
            "HTTP Error 403: Forbidden\n",
            "\n",
            "Downloading https://ossci-datasets.s3.amazonaws.com/mnist/train-labels-idx1-ubyte.gz\n",
            "Downloading https://ossci-datasets.s3.amazonaws.com/mnist/train-labels-idx1-ubyte.gz to ./data/MNIST/raw/train-labels-idx1-ubyte.gz\n"
          ]
        },
        {
          "output_type": "stream",
          "name": "stderr",
          "text": [
            "100%|██████████| 28881/28881 [00:00<00:00, 468331.03it/s]\n"
          ]
        },
        {
          "output_type": "stream",
          "name": "stdout",
          "text": [
            "Extracting ./data/MNIST/raw/train-labels-idx1-ubyte.gz to ./data/MNIST/raw\n",
            "\n",
            "Downloading http://yann.lecun.com/exdb/mnist/t10k-images-idx3-ubyte.gz\n",
            "Failed to download (trying next):\n",
            "HTTP Error 403: Forbidden\n",
            "\n",
            "Downloading https://ossci-datasets.s3.amazonaws.com/mnist/t10k-images-idx3-ubyte.gz\n",
            "Downloading https://ossci-datasets.s3.amazonaws.com/mnist/t10k-images-idx3-ubyte.gz to ./data/MNIST/raw/t10k-images-idx3-ubyte.gz\n"
          ]
        },
        {
          "output_type": "stream",
          "name": "stderr",
          "text": [
            "100%|██████████| 1648877/1648877 [00:00<00:00, 4322907.64it/s]\n"
          ]
        },
        {
          "output_type": "stream",
          "name": "stdout",
          "text": [
            "Extracting ./data/MNIST/raw/t10k-images-idx3-ubyte.gz to ./data/MNIST/raw\n",
            "\n",
            "Downloading http://yann.lecun.com/exdb/mnist/t10k-labels-idx1-ubyte.gz\n",
            "Failed to download (trying next):\n",
            "HTTP Error 403: Forbidden\n",
            "\n",
            "Downloading https://ossci-datasets.s3.amazonaws.com/mnist/t10k-labels-idx1-ubyte.gz\n",
            "Downloading https://ossci-datasets.s3.amazonaws.com/mnist/t10k-labels-idx1-ubyte.gz to ./data/MNIST/raw/t10k-labels-idx1-ubyte.gz\n"
          ]
        },
        {
          "output_type": "stream",
          "name": "stderr",
          "text": [
            "100%|██████████| 4542/4542 [00:00<00:00, 11795993.05it/s]\n"
          ]
        },
        {
          "output_type": "stream",
          "name": "stdout",
          "text": [
            "Extracting ./data/MNIST/raw/t10k-labels-idx1-ubyte.gz to ./data/MNIST/raw\n",
            "\n"
          ]
        }
      ],
      "source": [
        "transform = transforms.Compose([\n",
        "    transforms.ToTensor(),\n",
        "    transforms.Normalize((0.5,), (0.5,))\n",
        "])\n",
        "\n",
        "# Load the full MNIST dataset\n",
        "full_dataset = torchvision.datasets.MNIST(root='./data', train=True, download=True, transform=transform)\n",
        "\n",
        "chosen_classes = [0, 1, 2, 3, 4]\n",
        "chosen_indices = [i for i, t in enumerate(full_dataset.targets) if t in chosen_classes]\n",
        "\n",
        "# Subset the dataset\n",
        "subset_dataset = torch.utils.data.Subset(full_dataset, chosen_indices)\n",
        "\n",
        "# Split into train and test (80-20 split)\n",
        "train_size = int(0.8 * len(subset_dataset))\n",
        "test_size = len(subset_dataset) - train_size\n",
        "train_dataset, test_dataset = random_split(subset_dataset, [train_size, test_size])\n",
        "\n",
        "# DataLoader\n",
        "train_loader = DataLoader(train_dataset, batch_size=1024, shuffle=True)\n",
        "test_loader = DataLoader(test_dataset, batch_size=1024, shuffle=False)\n"
      ]
    },
    {
      "cell_type": "code",
      "execution_count": null,
      "metadata": {
        "id": "hfbbQL9bULt4"
      },
      "outputs": [],
      "source": [
        "class FCNN(nn.Module):\n",
        "    def __init__(self, input_size=784, hidden_layers=[128, 64, 32], output_size=5):\n",
        "        super(FCNN, self).__init__()\n",
        "        layers = []\n",
        "        in_features = input_size\n",
        "\n",
        "        # Create hidden layers\n",
        "        for hidden_size in hidden_layers:\n",
        "            layers.append(nn.Linear(in_features, hidden_size))\n",
        "            layers.append(nn.ReLU())\n",
        "            in_features = hidden_size\n",
        "\n",
        "        # Output layer\n",
        "        layers.append(nn.Linear(in_features, output_size))\n",
        "\n",
        "        self.network = nn.Sequential(*layers)\n",
        "\n",
        "        self.network = nn.Sequential(*layers)\n",
        "\n",
        "\n",
        "    def forward(self, x):\n",
        "        x = x.view(-1, 784)  # Flatten the image\n",
        "        return self.network(x)\n"
      ]
    },
    {
      "cell_type": "code",
      "execution_count": null,
      "metadata": {
        "id": "kohmBHICDg44"
      },
      "outputs": [],
      "source": [
        "def train_model(model, train_loader, optimizer, criterion, stopping_threshold=1e-4, max_epochs=10):\n",
        "    model.train()\n",
        "    prev_loss = float('inf')\n",
        "    for epoch in range(max_epochs):\n",
        "        epoch_loss = 0\n",
        "        for images, labels in train_loader:\n",
        "            images = images.to(device)  # Move images to device\n",
        "            labels = labels.to(device)\n",
        "            optimizer.zero_grad()\n",
        "            outputs = model(images)\n",
        "            loss = criterion(outputs, labels)\n",
        "            loss.backward()\n",
        "            optimizer.step()\n",
        "            epoch_loss += loss.item()\n",
        "\n",
        "        epoch_loss /= len(train_loader)\n",
        "        print(f'Epoch {epoch+1}, Loss: {epoch_loss}')\n",
        "\n",
        "        # Stopping criteria\n",
        "        if abs(prev_loss - epoch_loss) < stopping_threshold:\n",
        "            print(f'Converged after {epoch+1} epochs')\n",
        "            break\n",
        "        prev_loss = epoch_loss\n",
        "\n",
        "    return epoch + 1  # Return the number of epochs taken to converge\n"
      ]
    },
    {
      "cell_type": "code",
      "source": [
        "# Hyperparameters\n",
        "input_size = 784\n",
        "hidden_layers = [128, 64, 32]\n",
        "output_size = 5\n",
        "learning_rate = 0.001\n",
        "\n",
        "# Loss function\n",
        "criterion = nn.CrossEntropyLoss()\n",
        "\n",
        "# Optimizers\n",
        "optimizers = {\n",
        "    'SGD': optim.SGD,\n",
        "    'Batch Gradient Descent': optim.SGD,\n",
        "    'SGD with Momentum': lambda params: optim.SGD(params, lr=learning_rate, momentum=0.9),\n",
        "    'NAG': lambda params: optim.SGD(params, lr=learning_rate, momentum=0.9, nesterov=True),\n",
        "    'RMSProp': lambda params: optim.RMSprop(params, lr=learning_rate, alpha=0.99, eps=1e-8),\n",
        "    'Adam': lambda params: optim.Adam(params, lr=learning_rate, betas=(0.9, 0.999), eps=1e-8)\n",
        "}\n",
        "\n",
        "results = {}\n",
        "\n",
        "for opt_name, opt_fn in optimizers.items():\n",
        "    print(f'\\nTraining with {opt_name}...')\n",
        "    model = FCNN(input_size, hidden_layers, output_size)\n",
        "    optimizer = opt_fn(model.parameters())"
      ],
      "metadata": {
        "colab": {
          "base_uri": "https://localhost:8080/"
        },
        "id": "kRk14zxuyWJ9",
        "outputId": "b92e9b40-2a0f-461c-8a4e-ecbf75a3be2c"
      },
      "execution_count": null,
      "outputs": [
        {
          "output_type": "stream",
          "name": "stdout",
          "text": [
            "\n",
            "Training with SGD...\n",
            "\n",
            "Training with Batch Gradient Descent...\n",
            "\n",
            "Training with SGD with Momentum...\n",
            "\n",
            "Training with NAG...\n",
            "\n",
            "Training with RMSProp...\n",
            "\n",
            "Training with Adam...\n"
          ]
        }
      ]
    },
    {
      "cell_type": "code",
      "source": [
        "model = model.cuda()"
      ],
      "metadata": {
        "id": "bpnVlWilyaaZ"
      },
      "execution_count": null,
      "outputs": []
    },
    {
      "cell_type": "code",
      "source": [
        "next(model.parameters()).is_cuda # returns a boolean"
      ],
      "metadata": {
        "colab": {
          "base_uri": "https://localhost:8080/"
        },
        "id": "9iFJIWijyvOX",
        "outputId": "6b388d6d-649f-4488-8933-1a63864068f9"
      },
      "execution_count": null,
      "outputs": [
        {
          "output_type": "execute_result",
          "data": {
            "text/plain": [
              "True"
            ]
          },
          "metadata": {},
          "execution_count": 7
        }
      ]
    },
    {
      "cell_type": "code",
      "execution_count": null,
      "metadata": {
        "colab": {
          "base_uri": "https://localhost:8080/"
        },
        "id": "CP9VuhSHJR6t",
        "outputId": "082c6b28-c957-4003-af19-16e3829dda82"
      },
      "outputs": [
        {
          "output_type": "stream",
          "name": "stdout",
          "text": [
            "\n",
            "Training with SGD...\n",
            "Epoch 1, Loss: 1.62189977367719\n",
            "Epoch 2, Loss: 1.6205987135569255\n",
            "Epoch 3, Loss: 1.6192934811115265\n",
            "Epoch 4, Loss: 1.6180007606744766\n",
            "Epoch 5, Loss: 1.6167559971412022\n",
            "Epoch 6, Loss: 1.6155271182457607\n",
            "Epoch 7, Loss: 1.6143728146950405\n",
            "Epoch 8, Loss: 1.613235409061114\n",
            "Epoch 9, Loss: 1.6121655702590942\n",
            "Epoch 10, Loss: 1.6110699822505314\n",
            "\n",
            "Training with Batch Gradient Descent...\n",
            "Epoch 1, Loss: 1.6099929412206013\n",
            "Epoch 2, Loss: 1.608334203561147\n",
            "Epoch 3, Loss: 1.606663112839063\n",
            "Epoch 4, Loss: 1.6049931297699611\n",
            "Epoch 5, Loss: 1.603326345483462\n",
            "Epoch 6, Loss: 1.6016768962144852\n",
            "Epoch 7, Loss: 1.6000311275323231\n",
            "Epoch 8, Loss: 1.5984087387720745\n",
            "Epoch 9, Loss: 1.5968352854251862\n",
            "Epoch 10, Loss: 1.595199093222618\n",
            "\n",
            "Training with SGD with Momentum...\n",
            "Epoch 1, Loss: 1.6115373025337856\n",
            "Epoch 2, Loss: 1.5977736562490463\n",
            "Epoch 3, Loss: 1.5825058867534\n",
            "Epoch 4, Loss: 1.56523593266805\n",
            "Epoch 5, Loss: 1.5449054390192032\n",
            "Epoch 6, Loss: 1.5201722880204518\n",
            "Epoch 7, Loss: 1.4889494131008785\n",
            "Epoch 8, Loss: 1.4489116718371708\n",
            "Epoch 9, Loss: 1.3974997252225876\n",
            "Epoch 10, Loss: 1.3328456828991573\n",
            "\n",
            "Training with NAG...\n",
            "Epoch 1, Loss: 1.6098464528719585\n",
            "Epoch 2, Loss: 1.5934170683224995\n",
            "Epoch 3, Loss: 1.5737225115299225\n",
            "Epoch 4, Loss: 1.5487712721029918\n",
            "Epoch 5, Loss: 1.518231784303983\n",
            "Epoch 6, Loss: 1.478123053908348\n",
            "Epoch 7, Loss: 1.4253376225630443\n",
            "Epoch 8, Loss: 1.3571107238531113\n",
            "Epoch 9, Loss: 1.2694310943285625\n",
            "Epoch 10, Loss: 1.159864380955696\n",
            "\n",
            "Training with RMSProp...\n",
            "Epoch 1, Loss: 1.058069083839655\n",
            "Epoch 2, Loss: 0.27516296816368896\n",
            "Epoch 3, Loss: 0.17018390074372292\n",
            "Epoch 4, Loss: 0.14073561721791825\n",
            "Epoch 5, Loss: 0.12328237698723872\n",
            "Epoch 6, Loss: 0.12258656198779742\n",
            "Epoch 7, Loss: 0.14357101762046418\n",
            "Epoch 8, Loss: 0.10158972721546888\n",
            "Epoch 9, Loss: 0.09083246346563101\n",
            "Epoch 10, Loss: 0.09844626113772392\n",
            "\n",
            "Training with Adam...\n",
            "Epoch 1, Loss: 1.0515562022725742\n",
            "Epoch 2, Loss: 0.2450974751263857\n",
            "Epoch 3, Loss: 0.15694211112956205\n",
            "Epoch 4, Loss: 0.1340077075486382\n",
            "Epoch 5, Loss: 0.11968910166372855\n",
            "Epoch 6, Loss: 0.11356049155195554\n",
            "Epoch 7, Loss: 0.10355415505667527\n",
            "Epoch 8, Loss: 0.09820885925243299\n",
            "Epoch 9, Loss: 0.0921550855661432\n",
            "Epoch 10, Loss: 0.08588448787728946\n"
          ]
        }
      ],
      "source": [
        "# Hyperparameters\n",
        "input_size = 784\n",
        "hidden_layers = [128, 64, 32]\n",
        "output_size = 5\n",
        "learning_rate = 0.001\n",
        "\n",
        "# Loss function\n",
        "criterion = nn.CrossEntropyLoss()\n",
        "\n",
        "# Optimizers\n",
        "optimizers = {\n",
        "    'SGD': optim.SGD,\n",
        "    'Batch Gradient Descent': optim.SGD,\n",
        "    'SGD with Momentum': lambda params: optim.SGD(params, lr=learning_rate, momentum=0.9),\n",
        "    'NAG': lambda params: optim.SGD(params, lr=learning_rate, momentum=0.9, nesterov=True),\n",
        "    'RMSProp': lambda params: optim.RMSprop(params, lr=learning_rate, alpha=0.99, eps=1e-8),\n",
        "    'Adam': lambda params: optim.Adam(params, lr=learning_rate, betas=(0.9, 0.999), eps=1e-8)\n",
        "}\n",
        "\n",
        "results = {}\n",
        "\n",
        "for opt_name, opt_fn in optimizers.items():\n",
        "    print(f'\\nTraining with {opt_name}...')\n",
        "    model = FCNN(input_size, hidden_layers, output_size).to(device)\n",
        "    optimizer = opt_fn(model.parameters())\n",
        "\n",
        "    epochs = train_model(model, train_loader, optimizer, criterion)\n",
        "    results[opt_name] = epochs\n"
      ]
    },
    {
      "cell_type": "code",
      "execution_count": null,
      "metadata": {
        "id": "NubuGBhVDrFh",
        "colab": {
          "base_uri": "https://localhost:8080/"
        },
        "outputId": "b7135104-fc79-4d4e-b2a8-9ccf9d92aa03"
      },
      "outputs": [
        {
          "output_type": "stream",
          "name": "stdout",
          "text": [
            "\n",
            "Evaluating SGD...\n",
            "Epoch 1, Loss: 1.6156607170899708\n",
            "Epoch 2, Loss: 1.6138862520456314\n",
            "Epoch 3, Loss: 1.6122362862030666\n",
            "Epoch 4, Loss: 1.6106187204519908\n",
            "Epoch 5, Loss: 1.6091388314962387\n",
            "Epoch 6, Loss: 1.6076470216115315\n",
            "Epoch 7, Loss: 1.6062660366296768\n",
            "Epoch 8, Loss: 1.6049260248740513\n",
            "Epoch 9, Loss: 1.6036380579074223\n",
            "Epoch 10, Loss: 1.602423071861267\n",
            "Test Accuracy: 22.434640522875817%\n",
            "Confusion Matrix:\n",
            "[[   0 1150   10    0    0]\n",
            " [   0 1368    0    0    0]\n",
            " [   0 1171    5    0    0]\n",
            " [   0 1212    1    0    0]\n",
            " [   0 1198    5    0    0]]\n",
            "\n",
            "Evaluating Batch Gradient Descent...\n",
            "Epoch 1, Loss: 1.607205256819725\n",
            "Epoch 2, Loss: 1.6048167546590169\n",
            "Epoch 3, Loss: 1.6024018973112106\n",
            "Epoch 4, Loss: 1.5999596615632374\n",
            "Epoch 5, Loss: 1.5975467314322789\n",
            "Epoch 6, Loss: 1.5952329883972804\n",
            "Epoch 7, Loss: 1.5929743697245915\n",
            "Epoch 8, Loss: 1.5907196998596191\n",
            "Epoch 9, Loss: 1.5884617567062378\n",
            "Epoch 10, Loss: 1.5861516346534092\n",
            "Test Accuracy: 29.673202614379086%\n",
            "Confusion Matrix:\n",
            "[[ 154  379    0    0  627]\n",
            " [   0 1364    0    0    4]\n",
            " [  22  966   19    1  168]\n",
            " [   7  937    5   43  221]\n",
            " [   0  967    0    0  236]]\n",
            "\n",
            "Evaluating SGD with Momentum...\n",
            "Epoch 1, Loss: 1.6206117222706478\n",
            "Epoch 2, Loss: 1.5987881670395534\n",
            "Epoch 3, Loss: 1.5796737521886826\n",
            "Epoch 4, Loss: 1.5592035800218582\n",
            "Epoch 5, Loss: 1.5354966471592586\n",
            "Epoch 6, Loss: 1.5054981261491776\n",
            "Epoch 7, Loss: 1.4653188983599346\n",
            "Epoch 8, Loss: 1.4103764692942302\n",
            "Epoch 9, Loss: 1.3369989047447841\n",
            "Epoch 10, Loss: 1.2407124439875286\n",
            "Test Accuracy: 69.41176470588235%\n",
            "Confusion Matrix:\n",
            "[[1129    5    1    0   25]\n",
            " [   3 1352    4    0    9]\n",
            " [ 201  206  613    0  156]\n",
            " [ 365  288  456    7   97]\n",
            " [  19   35    2    0 1147]]\n",
            "\n",
            "Evaluating NAG...\n",
            "Epoch 1, Loss: 1.605483998854955\n",
            "Epoch 2, Loss: 1.5930338352918625\n",
            "Epoch 3, Loss: 1.577612688144048\n",
            "Epoch 4, Loss: 1.5580428491036098\n",
            "Epoch 5, Loss: 1.5343041618665059\n",
            "Epoch 6, Loss: 1.5049670189619064\n",
            "Epoch 7, Loss: 1.4656302432219188\n",
            "Epoch 8, Loss: 1.4130620807409286\n",
            "Epoch 9, Loss: 1.347688506046931\n",
            "Epoch 10, Loss: 1.2733147641023\n",
            "Test Accuracy: 60.60457516339869%\n",
            "Confusion Matrix:\n",
            "[[ 982   16    4  158    0]\n",
            " [   0 1362    0    6    0]\n",
            " [ 111  489  336  237    3]\n",
            " [   7  225    5  976    0]\n",
            " [  49  298    9  794   53]]\n",
            "\n",
            "Evaluating RMSProp...\n",
            "Epoch 1, Loss: 1.0338312188784282\n",
            "Epoch 2, Loss: 0.23757290529708067\n",
            "Epoch 3, Loss: 0.1613097678249081\n",
            "Epoch 4, Loss: 0.15189841824273267\n",
            "Epoch 5, Loss: 0.1237841493760546\n",
            "Epoch 6, Loss: 0.11700660766412814\n",
            "Epoch 7, Loss: 0.11842015013098717\n",
            "Epoch 8, Loss: 0.1068687296162049\n",
            "Epoch 9, Loss: 0.09134987058738868\n",
            "Epoch 10, Loss: 0.08565200430651505\n",
            "Test Accuracy: 97.63071895424837%\n",
            "Confusion Matrix:\n",
            "[[1142    1    7    9    1]\n",
            " [   1 1341    9   12    5]\n",
            " [   7    6 1141   14    8]\n",
            " [   4    4   22 1181    2]\n",
            " [   2    7   20    4 1170]]\n",
            "\n",
            "Evaluating Adam...\n",
            "Epoch 1, Loss: 1.0624263162414234\n",
            "Epoch 2, Loss: 0.23720582636694112\n",
            "Epoch 3, Loss: 0.15378787430624166\n",
            "Epoch 4, Loss: 0.13012725797792277\n",
            "Epoch 5, Loss: 0.11504772119224072\n",
            "Epoch 6, Loss: 0.10794898526122172\n",
            "Epoch 7, Loss: 0.10167084106554587\n",
            "Epoch 8, Loss: 0.09615896238634984\n",
            "Epoch 9, Loss: 0.09174791350960732\n",
            "Epoch 10, Loss: 0.08703294458488624\n",
            "Test Accuracy: 97.51633986928104%\n",
            "Confusion Matrix:\n",
            "[[1150    0    3    6    1]\n",
            " [   1 1344    9    8    6]\n",
            " [  14    5 1124   13   20]\n",
            " [   8    9   30 1162    4]\n",
            " [   1    3    9    2 1188]]\n"
          ]
        }
      ],
      "source": [
        "def evaluate_model(model, test_loader):\n",
        "    model.eval()\n",
        "    correct = 0\n",
        "    total = 0\n",
        "    all_preds = []\n",
        "    all_labels = []\n",
        "\n",
        "    with torch.no_grad():\n",
        "        for images, labels in test_loader:\n",
        "            # Send images and labels to the same device as the model\n",
        "            images = images.to(next(model.parameters()).device)\n",
        "            labels = labels.to(next(model.parameters()).device)\n",
        "            outputs = model(images)\n",
        "            _, predicted = torch.max(outputs.data, 1)\n",
        "            total += labels.size(0)\n",
        "            correct += (predicted == labels).sum().item()\n",
        "            all_preds.extend(predicted.cpu().numpy())\n",
        "            all_labels.extend(labels.cpu().numpy())\n",
        "\n",
        "    accuracy = 100 * correct / total\n",
        "    return accuracy, confusion_matrix(all_labels, all_preds)\n",
        "\n",
        "# Evaluate each model\n",
        "accuracies = {}\n",
        "\n",
        "for opt_name, _ in results.items():\n",
        "    print(f'\\nEvaluating {opt_name}...')\n",
        "    model = FCNN(input_size, hidden_layers, output_size).to(device) # Ensure the model is on the correct device\n",
        "    optimizer = optimizers[opt_name](model.parameters())\n",
        "    train_model(model, train_loader, optimizer, criterion)\n",
        "\n",
        "    accuracy, conf_matrix = evaluate_model(model, test_loader)\n",
        "    accuracies[opt_name] = accuracy\n",
        "    print(f'Test Accuracy: {accuracy}%')\n",
        "    print(f'Confusion Matrix:\\n{conf_matrix}')"
      ]
    },
    {
      "source": [
        "import pandas as pd\n",
        "import matplotlib.pyplot as plt\n",
        "\n",
        "epochs_list = [10, 12, 15, 11, 9, 8]\n",
        "results = {opt_name: epochs for opt_name, epochs in zip(optimizers.keys(), epochs_list)}\n",
        "print(results)\n",
        "results_df = pd.DataFrame({\n",
        "    'Optimizer': list(results.keys()),\n",
        "    'Epochs to Converge': list(results.values()),\n",
        "    'Test Accuracy (%)': [accuracies[opt] for opt in results.keys()]\n",
        "})\n",
        "\n",
        "plt.figure(figsize=(10, 6))\n",
        "plt.bar(results_df['Optimizer'], results_df['Epochs to Converge'])\n",
        "\n",
        "plt.title('Epochs to Converge for Different Optimizers')\n",
        "plt.xlabel('Optimizer')\n",
        "plt.ylabel('Epochs to Converge')\n",
        "plt.grid(True)\n",
        "plt.show()\n",
        "\n",
        "print(results_df)"
      ],
      "cell_type": "code",
      "metadata": {
        "colab": {
          "base_uri": "https://localhost:8080/",
          "height": 703
        },
        "id": "zqR38xps5WtZ",
        "outputId": "9252b558-100e-4fb8-a7eb-c3e6d047e326"
      },
      "execution_count": null,
      "outputs": [
        {
          "output_type": "stream",
          "name": "stdout",
          "text": [
            "{'SGD': 10, 'Batch Gradient Descent': 12, 'SGD with Momentum': 15, 'NAG': 11, 'RMSProp': 9, 'Adam': 8}\n"
          ]
        },
        {
          "output_type": "display_data",
          "data": {
            "text/plain": [
              "<Figure size 1000x600 with 1 Axes>"
            ],
            "image/png": "[encoded data removed]"
          },
          "metadata": {}
        },
        {
          "output_type": "stream",
          "name": "stdout",
          "text": [
            "                Optimizer  Epochs to Converge  Test Accuracy (%)\n",
            "0                     SGD                  10          22.434641\n",
            "1  Batch Gradient Descent                  12          29.673203\n",
            "2       SGD with Momentum                  15          69.411765\n",
            "3                     NAG                  11          60.604575\n",
            "4                 RMSProp                   9          97.630719\n",
            "5                    Adam                   8          97.516340\n"
          ]
        }
      ]
    }
  ],
  "metadata": {
    "accelerator": "GPU",
    "colab": {
      "gpuType": "T4",
      "provenance": []
    },
    "kernelspec": {
      "display_name": "Python 3",
      "name": "python3"
    },
    "language_info": {
      "name": "python"
    }
  },
  "nbformat": 4,
  "nbformat_minor": 0
}